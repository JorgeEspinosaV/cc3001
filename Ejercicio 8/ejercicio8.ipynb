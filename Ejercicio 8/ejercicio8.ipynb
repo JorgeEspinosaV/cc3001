{
 "cells": [
  {
   "attachments": {},
   "cell_type": "markdown",
   "metadata": {},
   "source": [
    "### Ejercicio 6.1 (Chequear si un árbol es AVL en tiempo lineal)\n",
    "\n",
    "En este ejercicio usted debe modificar la implementación dada para asegurar que cada nodo del árbol se visite solo una vez, asegurando de esta manera que el costo de determinar si un árbol es AVL sea $\\Theta(n)$.\n",
    "\n",
    "Para esto, usted debe fusionar las funciones ``altura`` y ``es_AVL``en una sola función ``altura_AVL``, que retorne una tupla $(h,a)$, donde $h$ es la altura y $a$ es un booleano que dice si el árbol es AVL. De esta manera, al invocar la función se tiene de una sola vez toda la información necesaria.\n"
   ]
  },
  {
   "cell_type": "code",
   "execution_count": 2,
   "metadata": {},
   "outputs": [],
   "source": [
    "class Nodoi:\n",
    "    def __init__(self, izq, info, der):\n",
    "        self.izq=izq\n",
    "        self.info=info\n",
    "        self.der=der\n",
    "    \n",
    "    def altura(self):\n",
    "        return 1+max(self.izq.altura(),self.der.altura())\n",
    "    \n",
    "    def es_AVL(self):\n",
    "        return abs(self.izq.altura()-self.der.altura())<=1 \\\n",
    "                and self.izq.es_AVL() and self.der.es_AVL()\n",
    "        \n",
    "    def __str__(self):\n",
    "        return \"(\"+self.izq.__str__()+str(self.info)+self.der.__str__()+\")\"\n",
    "\n",
    "class Nodoe:\n",
    "    def __init__(self):\n",
    "        pass\n",
    "\n",
    "    def altura(self):\n",
    "        return 0\n",
    "    \n",
    "    def es_AVL(self):\n",
    "        return True\n",
    "    \n",
    "    def __str__(self):\n",
    "        return\"☐\"\n",
    "\n",
    "class Arbol:\n",
    "    def __init__(self,raiz=Nodoe()):\n",
    "        self.raiz=raiz     \n",
    "    def altura(self):\n",
    "        if self.raiz == None:\n",
    "            return 0\n",
    "        else:\n",
    "            altder = self.raiz.der.altura()\n",
    "            altizq = self.raiz.izq.altura()\n",
    "            return max(altder, altizq)\n",
    "    def es_AVL(self):\n",
    "        return self.raiz.es_AVL()\n",
    "    \n",
    "    def altura_AVL(self):\n",
    "        h = self.altura()\n",
    "        avl = self.es_AVL()\n",
    "        return (h, avl)\n",
    "    \n",
    "    def __str__(self):        \n",
    "        return self.raiz.__str__()"
   ]
  },
  {
   "attachments": {},
   "cell_type": "markdown",
   "metadata": {},
   "source": [
    "A continuación, pruébela con los dos árboles utilizados anteriormente:"
   ]
  },
  {
   "cell_type": "code",
   "execution_count": 5,
   "metadata": {},
   "outputs": [
    {
     "name": "stdout",
     "output_type": "stream",
     "text": [
      "((☐1☐)2(☐3(☐4☐)))\n",
      "True\n",
      "2 True\n"
     ]
    }
   ],
   "source": [
    "a1=Arbol(Nodoi(Nodoi(Nodoe(),1,Nodoe()),\n",
    "            2,\n",
    "            Nodoi(Nodoe(),3,Nodoi(Nodoe(),4,Nodoe()))))\n",
    "print(a1)\n",
    "print(a1.es_AVL())\n",
    "h, avl = a1.altura_AVL()\n",
    "print(h, avl)"
   ]
  },
  {
   "cell_type": "code",
   "execution_count": 6,
   "metadata": {},
   "outputs": [
    {
     "name": "stdout",
     "output_type": "stream",
     "text": [
      "((☐1☐)2(☐3(☐4(☐5☐))))\n",
      "False\n",
      "3 False\n"
     ]
    }
   ],
   "source": [
    "a2=Arbol(Nodoi(Nodoi(Nodoe(),1,Nodoe()),\n",
    "            2,\n",
    "            Nodoi(Nodoe(),3,Nodoi(Nodoe(),4,Nodoi(Nodoe(),5,Nodoe())))))\n",
    "print(a2)\n",
    "print(a2.es_AVL())\n",
    "h, avl = a2.altura_AVL()\n",
    "print(h, avl)"
   ]
  }
 ],
 "metadata": {
  "kernelspec": {
   "display_name": "Python 3",
   "language": "python",
   "name": "python3"
  },
  "language_info": {
   "codemirror_mode": {
    "name": "ipython",
    "version": 3
   },
   "file_extension": ".py",
   "mimetype": "text/x-python",
   "name": "python",
   "nbconvert_exporter": "python",
   "pygments_lexer": "ipython3",
   "version": "3.11.3"
  },
  "orig_nbformat": 4
 },
 "nbformat": 4,
 "nbformat_minor": 2
}
