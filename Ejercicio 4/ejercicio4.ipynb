{
 "cells": [
  {
   "attachments": {},
   "cell_type": "markdown",
   "metadata": {},
   "source": [
    "### Ejercicio 4 Jorge Espinosa V.\n",
    "\n",
    "Modifique la función ``LCS`` para que retorne una subsecuencia común más larga, en lugar de retornar su longitud.\n",
    "\n",
    "Recordemos que el algoritmo del apunte va llenando una martiz $L$, donde $L[i,j]$ contiene el largo de la subsecuencia común mas larga entre $a[0:i]$ y $b[0:j]$. Su algoritmo modificado debe ir llenando en paralelo una matriz $S$, tal que $S[i,j]$ contenga un string que es la subsecuencia común más larga entre $a[0:i]$ y $b[0:j]$.\n",
    "\n",
    "Para ayudarlo, el siguiente código ya tiene la definición de la matriz y la inicialización respectiva. Usted tiene que encargarse de modificar todo lo demás que sea necesario para cumplir con lo pedido."
   ]
  },
  {
   "cell_type": "code",
   "execution_count": 27,
   "metadata": {},
   "outputs": [],
   "source": [
    "import numpy as np\n",
    "def LCS(a,b):\n",
    "    \"\"\"\n",
    "    Encuentra el largo de la subsecuencia común más larga entre a y b\n",
    "    \"\"\"\n",
    "    m=len(a)\n",
    "    n=len(b)\n",
    "    L=np.zeros((m+1,n+1),dtype=int)\n",
    "    S=np.empty((m+1,n+1),dtype=object)\n",
    "    for i in range(0,m+1):\n",
    "        for j in range(0,n+1):\n",
    "            S[i,j]=\"\"\n",
    "    for i in range(1,m+1):\n",
    "        for j in range(1,n+1):\n",
    "            if a[i-1]==b[j-1]:\n",
    "                S[i,j]=str(S[i-1,j-1]) + str(b[j-1])\n",
    "            else: # lo siguiente es equivalente a L[i,j]=max(L[i-1,j],L[i,j-1])\n",
    "                if len(S[i-1,j]) > len(S[i,j-1]):\n",
    "                    S[i,j]=S[i-1,j]\n",
    "                    \n",
    "                else:\n",
    "                    S[i,j]=S[i,j-1]\n",
    "                    \n",
    "            \n",
    "    return S[m,n]"
   ]
  },
  {
   "cell_type": "code",
   "execution_count": 28,
   "metadata": {},
   "outputs": [
    {
     "name": "stdout",
     "output_type": "stream",
     "text": [
      "aaaabra\n"
     ]
    }
   ],
   "source": [
    "print(LCS(\"abracadabra\",\"pasapalabra\"))"
   ]
  },
  {
   "cell_type": "code",
   "execution_count": 29,
   "metadata": {},
   "outputs": [],
   "source": [
    "assert LCS(\"abracadabra\",\"pasapalabra\")==\"aaaabra\""
   ]
  },
  {
   "cell_type": "code",
   "execution_count": 30,
   "metadata": {},
   "outputs": [],
   "source": [
    "assert LCS(\"matemáticas\",\"computación\") in [\"mta\", \"mti\", \"mai\"]"
   ]
  }
 ],
 "metadata": {
  "kernelspec": {
   "display_name": "Python 3",
   "language": "python",
   "name": "python3"
  },
  "language_info": {
   "codemirror_mode": {
    "name": "ipython",
    "version": 3
   },
   "file_extension": ".py",
   "mimetype": "text/x-python",
   "name": "python",
   "nbconvert_exporter": "python",
   "pygments_lexer": "ipython3",
   "version": "3.11.1"
  },
  "orig_nbformat": 4
 },
 "nbformat": 4,
 "nbformat_minor": 2
}
