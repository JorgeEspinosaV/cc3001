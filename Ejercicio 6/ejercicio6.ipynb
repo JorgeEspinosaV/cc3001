{
 "cells": [
  {
   "attachments": {},
   "cell_type": "markdown",
   "metadata": {},
   "source": [
    "### Ejercicio 4.5\n",
    "\n",
    "Suponga que los campos ``info`` de los nodos externos de un árbol contienen solo números y escriba una función que pueda invocarse como ``formula.evaluar()``, que al ser ejecutada entregue el valor numérico  de la fórmula representada por el árbol. Modifique a continuación la definición de las clases ``Arbol``, ``Nodoi`` y ``Nodoe`` para que incluyan la nueva función ``evaluar()``. Note que tiene que implementar la función ``evaluar()`` en las tres clases."
   ]
  },
  {
   "cell_type": "code",
   "execution_count": 1,
   "metadata": {},
   "outputs": [
    {
     "ename": "SyntaxError",
     "evalue": "incomplete input (3521120243.py, line 32)",
     "output_type": "error",
     "traceback": [
      "\u001b[1;36m  Cell \u001b[1;32mIn[1], line 32\u001b[1;36m\u001b[0m\n\u001b[1;33m    \u001b[0m\n\u001b[1;37m    ^\u001b[0m\n\u001b[1;31mSyntaxError\u001b[0m\u001b[1;31m:\u001b[0m incomplete input\n"
     ]
    }
   ],
   "source": [
    "class Nodoi:\n",
    "    def __init__(self, izq, info, der):\n",
    "        self.izq=izq\n",
    "        self.info=info\n",
    "        self.der=der\n",
    "\n",
    "    def operador(self, info):\n",
    "        if info==\"+\":\n",
    "            return izq+der\n",
    "\n",
    "        elif info==\"-\":\n",
    "            return izq-der\n",
    "        \n",
    "        elif info==\"*\":\n",
    "            return izq*der\n",
    "        \n",
    "        elif info==\"/\":\n",
    "            return izq/der\n",
    "        \n",
    "        elif info==\"^\":\n",
    "            return izq**der\n",
    "   \n",
    "class Nodoe:\n",
    "    def __init__(self, info=\"\"):\n",
    "        self.info=info\n",
    "    \n",
    "class Arbol:\n",
    "    def __init__(self,raiz=Nodoe()):\n",
    "        self.raiz=raiz\n",
    "\n",
    "    def evaluar(self):\n",
    "        "
   ]
  },
  {
   "attachments": {},
   "cell_type": "markdown",
   "metadata": {},
   "source": [
    "Pruébela a continuación:"
   ]
  },
  {
   "cell_type": "code",
   "execution_count": null,
   "metadata": {},
   "outputs": [],
   "source": [
    "formula= Arbol(\n",
    "            Nodoi(\n",
    "                Nodoi(Nodoe(5),\"+\",Nodoe(2)),\n",
    "                \"*\",\n",
    "                Nodoi(\n",
    "                    Nodoe(8),\n",
    "                    \"-\",\n",
    "                    Nodoi(Nodoe(9),\"/\",Nodoe(3))\n",
    "                )\n",
    "            )\n",
    "        )\n",
    "print(formula.evaluar())"
   ]
  }
 ],
 "metadata": {
  "kernelspec": {
   "display_name": "Python 3",
   "language": "python",
   "name": "python3"
  },
  "language_info": {
   "codemirror_mode": {
    "name": "ipython",
    "version": 3
   },
   "file_extension": ".py",
   "mimetype": "text/x-python",
   "name": "python",
   "nbconvert_exporter": "python",
   "pygments_lexer": "ipython3",
   "version": "3.11.1"
  },
  "orig_nbformat": 4
 },
 "nbformat": 4,
 "nbformat_minor": 2
}
