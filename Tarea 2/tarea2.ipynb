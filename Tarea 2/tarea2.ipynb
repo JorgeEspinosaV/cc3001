{
 "cells": [
  {
   "attachments": {},
   "cell_type": "markdown",
   "metadata": {},
   "source": [
    "# CC3001 Otoño 2023 Tarea  [Jorge Espinosa V]\n",
    "\n",
    "# Calculadora\n",
    "\n",
    "### Profesores\n",
    "Sección 1 Iván Sipirán •\n",
    "Sección 2 Patricio Poblete •\n",
    "Sección 3 Nelson Baloian"
   ]
  },
  {
   "attachments": {},
   "cell_type": "markdown",
   "metadata": {},
   "source": [
    "# Enunciado\n",
    "\n",
    "Esta tarea consiste en desarrollar una calculadora de expresiones matemáticas al estilo Matlab o Maple, pero con capacidad de procesar un conjunto de comandos bien restringido. Algunos ejemplos de los comandos que acepta y de lo que debe imprimir en la salida van a continuación:\n",
    "\n",
    "|Entrada (lo que el usuario escribe)   | Salida(lo que imprime el programa)  |\n",
    "|---|---|\n",
    "|n=5   | 5  |\n",
    "|hanoi=2^n-1    |31   |\n",
    "|var_1 = 23 - 13 + hanoi * 2    |82   |\n",
    "|h2 = hanoi /2   |15   |\n",
    "|n   |5   |\n",
    "\n",
    "A continuación definimos más en detalle lo que se debe implementar:\n",
    "\n",
    "\n",
    "\n",
    "1.   Cada comando es de la forma \"variable=expresión\". El efecto es que se debe calcular la expresión de la derecha, guardar el resultado en la variable de la izquierda e imprimir el resultado en la salida. Si se omite desde el \"=\" hacia adelante (como en el último ejemplo), solo se imprime el valor de la variable. Las variables comienzan con letra y continúan con letras, dígitos y el signo \"_\".\n",
    "2.   Los operadores permitidos son \"+\",\"-\",\"*\", \"/\", \"^\".\n",
    "3.   Solo se trabaja con números enteros y todas las operaciones dan resultado entero (incluyendo la división, que trunca).\n",
    "4.   Para simplificar, no se puede usar paréntesis y la expresión se evalúa estrictamente de izquierda a derecha. Eso explica el resultado que se obtiene para \"var_1\".\n",
    "5.   Si se utiliza una variable que aún no ha sido definida, se debe dar un error\n",
    "\n",
    "      ERROR: variable indefinida \"...\"\n",
    "\n",
    "6.   Si la sintaxis no es correcta, se debe imprimir en la salida un mensaje de la forma\n",
    "\n",
    "      ERROR: al procesar \"...\"\n",
    "\n",
    "      donde el string que se imprime es la parte de la entrada desde el punto del error hacia adelante.\n",
    "\n",
    "\n",
    "Antes de empezar a escribir código, usted debe dibujar un diagrama de estados que describa la estructura de la entrada. Si le resulta más conveniente, pueden ser varios diagramas (por ejemplo, uno que describa la estructura de una variable, otro la de un número, otra la de un comando). Luego, a partir de ahí escriba el código que implementa esos diagramas. **Importante:** Su código debe ir procesando de un caracter a la vez, para este procesamiento no se puede utilizar funciones de Python que operen sobre strings de largo mayor que uno. Se recomienda tener una función que reciba un comando en un string y lo procese, y otra que se encargue de ir leyendo líneas una a una e invocando a la función antes mencionada para procesarlas.\n",
    "\n",
    "Para almacenar los nombres y valores de las variables, está permitido el uso de un diccionario de Python.\n",
    "\n",
    "En su entrega debe describir brevemente el problema, luego describir la estrategia de solución a través de los diagramas de estados, y a continuación el código ejecutable respectivo, agregando todas las explicaciones necesarias para que se entienda.\n",
    "\n"
   ]
  },
  {
   "cell_type": "code",
   "execution_count": null,
   "metadata": {},
   "outputs": [],
   "source": [
    "# Esta función recibe un comando en string y el diccionario de variables. Con él, \n",
    "# procesa el comando, imprime el resultado de la expresion\n",
    "# y posiblemente modifica el diccionario. La función retorna el diccionario \n",
    "\n",
    "def procesar_comando(comando, dicc_var):\n",
    "  # procesa el comando e imprime el resultado\n",
    "  return dicc_var\n",
    "\n",
    "def calculadora(lista_comandos):\n",
    "  # Este diccionario almacena las variables que se vayan definiendo en la calculadora\n",
    "  # Este diccionario se inicializa cuando se usa la calculadora\n",
    "  vars = dict()\n",
    "\n",
    "  # Se procesan todos los comandos de la lista (lista de string)\n",
    "  for i in range(0, len(lista_comandos)):\n",
    "    vars = procesar_comando(lista_comandos[i], vars)\n"
   ]
  },
  {
   "attachments": {},
   "cell_type": "markdown",
   "metadata": {},
   "source": [
    "## Ejemplo 1"
   ]
  },
  {
   "cell_type": "code",
   "execution_count": null,
   "metadata": {},
   "outputs": [],
   "source": [
    "# EJEMPLO 1:\n",
    "lista = [\"n=5\",\"hanoi=2^n-1\",\"var_1 = 23 - 13 + hanoi * 2\",\"h2 = hanoi /2\",\"\",\"n\"]\n",
    "calculadora(lista)  "
   ]
  },
  {
   "attachments": {},
   "cell_type": "markdown",
   "metadata": {},
   "source": [
    "El resultado del ejemplo anterior debería imprimir en pantalla\n",
    "\n",
    "   5\n",
    "\n",
    "   31\n",
    "\n",
    "   82\n",
    "\n",
    "   15\n",
    "\n",
    "   5"
   ]
  },
  {
   "attachments": {},
   "cell_type": "markdown",
   "metadata": {},
   "source": [
    "## Ejemplo 2"
   ]
  },
  {
   "cell_type": "code",
   "execution_count": null,
   "metadata": {},
   "outputs": [],
   "source": [
    "# EJEMPLO 1:\n",
    "lista = [\"n=5\",\"hanoi=2^n-1\",\"var_1 = 23 - 13 + hanoi2 * 2\",\"h2 = hanoi /2\",\"\",\"n\"]\n",
    "calculadora(lista)"
   ]
  },
  {
   "attachments": {},
   "cell_type": "markdown",
   "metadata": {},
   "source": [
    "El resultado del ejemplo anterior debería imprimir en pantalla\n",
    "\n",
    "5\n",
    "\n",
    "31\n",
    "\n",
    "ERROR: variable indefinida \"hanoi2\"\n",
    "\n",
    "15\n",
    "\n",
    "5"
   ]
  },
  {
   "attachments": {},
   "cell_type": "markdown",
   "metadata": {},
   "source": [
    "## ¿Qué hay que entregar?\n",
    "\n",
    "Usted debe crear una copia de este documento (del menú seleccionar \"Archivo\" o \"File\" y de ahi la opción \"guardar copia en Drive\" o \"save a copy in Drive\"). Este nuevo documento (notebook de Colab) es el que debe modificar para luego compartirlo con la opción \"Cualquier usuario de internet con este enlace puede ver esto\" (o “Anyone on the internet with this link can view”). Esta opción se encuentra disponible en la parte superior derecha de su notebook, en el botón \"Compartir\" (o \"Share\"). Una vez que tenga disponible el enlace, colocarlo en la descripción de la entrega de su tarea. No olvide colocar su nombre dentro del notebook."
   ]
  }
 ],
 "metadata": {
  "language_info": {
   "name": "python"
  },
  "orig_nbformat": 4
 },
 "nbformat": 4,
 "nbformat_minor": 2
}
