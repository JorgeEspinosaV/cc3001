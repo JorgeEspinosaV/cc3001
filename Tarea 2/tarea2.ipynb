{
 "cells": [
  {
   "attachments": {},
   "cell_type": "markdown",
   "metadata": {},
   "source": [
    "# CC3001 Otoño 2023 Tarea  [Jorge Espinosa V]\n",
    "\n",
    "# Calculadora\n",
    "\n",
    "### Profesores\n",
    "Sección 1 Iván Sipirán •\n",
    "Sección 2 Patricio Poblete •\n",
    "Sección 3 Nelson Baloian"
   ]
  },
  {
   "attachments": {},
   "cell_type": "markdown",
   "metadata": {},
   "source": [
    "# Enunciado\n",
    "\n",
    "Esta tarea consiste en desarrollar una calculadora de expresiones matemáticas al estilo Matlab o Maple, pero con capacidad de procesar un conjunto de comandos bien restringido. Algunos ejemplos de los comandos que acepta y de lo que debe imprimir en la salida van a continuación:\n",
    "\n",
    "|Entrada (lo que el usuario escribe)   | Salida(lo que imprime el programa)  |\n",
    "|---|---|\n",
    "|n=5   | 5  |\n",
    "|hanoi=2^n-1    |31   |\n",
    "|var_1 = 23 - 13 + hanoi * 2    |82   |\n",
    "|h2 = hanoi /2   |15   |\n",
    "|n   |5   |\n",
    "\n",
    "A continuación definimos más en detalle lo que se debe implementar:\n",
    "\n",
    "\n",
    "\n",
    "1.   Cada comando es de la forma \"variable=expresión\". El efecto es que se debe calcular la expresión de la derecha, guardar el resultado en la variable de la izquierda e imprimir el resultado en la salida. Si se omite desde el \"=\" hacia adelante (como en el último ejemplo), solo se imprime el valor de la variable. Las variables comienzan con letra y continúan con letras, dígitos y el signo \"_\".\n",
    "2.   Los operadores permitidos son \"+\",\"-\",\"*\", \"/\", \"^\".\n",
    "3.   Solo se trabaja con números enteros y todas las operaciones dan resultado entero (incluyendo la división, que trunca).\n",
    "4.   Para simplificar, no se puede usar paréntesis y la expresión se evalúa estrictamente de izquierda a derecha. Eso explica el resultado que se obtiene para \"var_1\".\n",
    "5.   Si se utiliza una variable que aún no ha sido definida, se debe dar un error\n",
    "\n",
    "      ERROR: variable indefinida \"...\"\n",
    "\n",
    "6.   Si la sintaxis no es correcta, se debe imprimir en la salida un mensaje de la forma\n",
    "\n",
    "      ERROR: al procesar \"...\"\n",
    "\n",
    "      donde el string que se imprime es la parte de la entrada desde el punto del error hacia adelante.\n",
    "\n",
    "\n",
    "Antes de empezar a escribir código, usted debe dibujar un diagrama de estados que describa la estructura de la entrada. Si le resulta más conveniente, pueden ser varios diagramas (por ejemplo, uno que describa la estructura de una variable, otro la de un número, otra la de un comando). Luego, a partir de ahí escriba el código que implementa esos diagramas. **Importante:** Su código debe ir procesando de un caracter a la vez, para este procesamiento no se puede utilizar funciones de Python que operen sobre strings de largo mayor que uno. Se recomienda tener una función que reciba un comando en un string y lo procese, y otra que se encargue de ir leyendo líneas una a una e invocando a la función antes mencionada para procesarlas.\n",
    "\n",
    "Para almacenar los nombres y valores de las variables, está permitido el uso de un diccionario de Python.\n",
    "\n",
    "En su entrega debe describir brevemente el problema, luego describir la estrategia de solución a través de los diagramas de estados, y a continuación el código ejecutable respectivo, agregando todas las explicaciones necesarias para que se entienda.\n",
    "\n"
   ]
  },
  {
   "cell_type": "code",
   "execution_count": 56,
   "metadata": {},
   "outputs": [],
   "source": [
    "#Importamos librerias\n",
    "import math\n",
    "\n",
    "#Funciones auxiliares\n",
    "\n",
    "def suma(a,b):\n",
    "    total = int(a) + int(b)\n",
    "    return total\n",
    "\n",
    "def resta(a,b):\n",
    "    total = int(a) - int(b) \n",
    "    return total\n",
    "\n",
    "def multiplicacion(a,b):\n",
    "    total = int(a)*int(b)\n",
    "    return total\n",
    "\n",
    "def division(a,b):\n",
    "    total = math.floor(int(a)/int(b))\n",
    "    return total\n",
    "\n",
    "def potencia(a,b):\n",
    "    if b==\"\":\n",
    "        return 1\n",
    "    total = int(a)**int(b)\n",
    "    return total \n",
    "\n",
    "def quitar_espacios(comando): #Quita todos los espacios del comando\n",
    "    n=len(comando)\n",
    "    i=0\n",
    "    comando_aux=\"\"\n",
    "    while i<n:\n",
    "        if comando[i]==\" \":\n",
    "            i+=1\n",
    "        else:\n",
    "            comando_aux=comando_aux+comando[i]\n",
    "            i+=1\n",
    "    return comando_aux\n",
    "\n",
    "def posicion_igual(comando): #Encuentra la posicion de \"=\", si encuentra \"=\" retorna su posicion de lo contrario retorna 0\n",
    "    n = len(comando)\n",
    "    i = 0\n",
    "    pos = 0\n",
    "    while i < n:\n",
    "        if comando[i] == \"=\":\n",
    "            pos = i\n",
    "            return pos\n",
    "        else:\n",
    "            i+=1\n",
    "    return pos\n",
    "\n",
    "def str_var(comando, pos_igual): #Separa el string de la variable del comando\n",
    "    \n",
    "    if pos_igual==0:\n",
    "        return comando\n",
    "    else:\n",
    "        var=\"\"\n",
    "        i=0\n",
    "        while i <pos_igual:\n",
    "            caracter = comando[i]\n",
    "            var=var+caracter\n",
    "            i+=1\n",
    "        return var\n",
    "\n",
    "def str_expr(comando, pos_igual): #Separa el string de la expresion del comando\n",
    "    n=len(comando)\n",
    "    expr=\"\"\n",
    "    i=pos_igual + 1\n",
    "    while i<n:\n",
    "        caracter=comando[i]\n",
    "        expr=expr+caracter\n",
    "        i+=1\n",
    "    return expr\n",
    "\n",
    "def initializer(expr):\n",
    "    str_aux=\"\"\n",
    "    n=len(expr)\n",
    "    i=0\n",
    "    while i<n and expr[i] not in {\"+\",\"-\",\"*\",\"/\",\"^\"}:\n",
    "        str_aux=str_aux+expr[i]\n",
    "        i+=1\n",
    "    return str_aux, i\n",
    "\n",
    "def parser_exp(var,expr,dicc_var):\n",
    "    str_aux=\"\"\n",
    "    op=\"\"\n",
    "    n=len(expr)\n",
    "    dicc_var[var],j=initializer(expr)\n",
    "    if op==\"\":\n",
    "        op=expr[j]\n",
    "        j+=1\n",
    "        for i in range(j,n):\n",
    "            if expr[i] in {\"+\",\"-\",\"*\",\"/\",\"^\"}:\n",
    "                if expr[i]==\"+\":\n",
    "                    total=str(int(dicc_var[var])+int(str_aux))\n",
    "                    dicc_var[var]=total\n",
    "                    str_aux=\"\"\n",
    "                    op=expr[i]\n",
    "                elif expr[i]==\"-\":\n",
    "                    total=str(int(dicc_var[var])-int(str_aux))\n",
    "                    dicc_var[var]=total\n",
    "                    str_aux=\"\"\n",
    "                    op=expr[i]\n",
    "                elif expr[i]==\"*\":\n",
    "                    total=str(int(dicc_var[var])*int(str_aux))\n",
    "                    dicc_var[var]=total\n",
    "                    str_aux=\"\"\n",
    "                    op=expr[i]\n",
    "                elif expr[i]==\"/\":\n",
    "                    dicc_var[var]=division(dicc_var[var],str_aux)\n",
    "                    str_aux=\"\"\n",
    "                    op=expr[i]\n",
    "                elif expr[i]==\"^\":\n",
    "                    dicc_var[var]=potencia(dicc_var[var],str_aux)\n",
    "                    str_aux=\"\"\n",
    "                    op=expr[i]\n",
    "            else:\n",
    "                str_aux=str_aux+expr[i]\n",
    "    return dicc_var\n",
    "\n",
    "        \n",
    "\n",
    "    \n",
    "    \n",
    "                \n",
    "                "
   ]
  },
  {
   "cell_type": "code",
   "execution_count": 60,
   "metadata": {},
   "outputs": [
    {
     "name": "stdout",
     "output_type": "stream",
     "text": [
      "{'tusi': '49'}\n"
     ]
    }
   ],
   "source": [
    "dicc=dict()\n",
    "var=\"tusi\"\n",
    "expr=\"49*10\"\n",
    "\n",
    "dicc_var=parser_exp(var, expr,dicc)\n",
    "\n",
    "print(dicc_var)"
   ]
  },
  {
   "cell_type": "code",
   "execution_count": 5,
   "metadata": {},
   "outputs": [],
   "source": [
    "# Esta función recibe un comando en string y el diccionario de variables. Con él, \n",
    "# procesa el comando, imprime el resultado de la expresion\n",
    "# y posiblemente modifica el diccionario. La función retorna el diccionario \n",
    "\n",
    "def procesar_comando(comando, dicc_var):\n",
    "  comando2=quitar_espacios(comando)\n",
    "  pos_igual = posicion_igual(comando2)\n",
    "  var=str_var(comando2,pos_igual)\n",
    "  expr=str_expr(comando2, pos_igual)\n",
    "  n = len(comando2) \n",
    "  if n==0:\n",
    "    return dicc_var\n",
    "  else:\n",
    "    if comando2[0].isalpha()==True:\n",
    "      dicc_var[var]=\"\"\n",
    "      #Comando no tiene \"=\"\n",
    "      if pos_igual == 0:\n",
    "        #Buscar variable en diccionario\n",
    "        if var in dicc_var:\n",
    "          print(dicc_var[var])\n",
    "          return dicc_var\n",
    "        #Variable no esta en diccionario\n",
    "        else:\n",
    "          print(f\"ERROR: variable indefinida '{var}'\")\n",
    "          return dicc_var\n",
    "      else:\n",
    "        dicc_var=parser_expr(var, expr, dicc_var)\n",
    "        print(dicc_var[var])\n",
    "        return dicc_var\n",
    "    else:\n",
    "      print(f\"ERROR: error de sintaxis en '{var}'\")\n",
    "      return dicc_var\n",
    "  \n",
    "  \n",
    "\n",
    "\n",
    "\n",
    "\n",
    "\n",
    "def calculadora(lista_comandos):\n",
    "  # Este diccionario almacena las variables que se vayan definiendo en la calculadora\n",
    "  # Este diccionario se inicializa cuando se usa la calculadora\n",
    "  vars = dict()\n",
    "\n",
    "  # Se procesan todos los comandos de la lista (lista de string)\n",
    "  for i in range(0, len(lista_comandos)):\n",
    "    vars = procesar_comando(lista_comandos[i], vars)\n",
    "    print(vars)\n"
   ]
  },
  {
   "attachments": {},
   "cell_type": "markdown",
   "metadata": {},
   "source": [
    "## Ejemplo 1"
   ]
  },
  {
   "cell_type": "code",
   "execution_count": 6,
   "metadata": {},
   "outputs": [
    {
     "name": "stdout",
     "output_type": "stream",
     "text": [
      "5\n",
      "{'n': '5'}\n"
     ]
    },
    {
     "ename": "ValueError",
     "evalue": "invalid literal for int() with base 10: ''",
     "output_type": "error",
     "traceback": [
      "\u001b[1;31m---------------------------------------------------------------------------\u001b[0m",
      "\u001b[1;31mValueError\u001b[0m                                Traceback (most recent call last)",
      "Cell \u001b[1;32mIn[6], line 3\u001b[0m\n\u001b[0;32m      1\u001b[0m \u001b[39m# EJEMPLO 1:\u001b[39;00m\n\u001b[0;32m      2\u001b[0m lista \u001b[39m=\u001b[39m [\u001b[39m\"\u001b[39m\u001b[39mn=5\u001b[39m\u001b[39m\"\u001b[39m,\u001b[39m\"\u001b[39m\u001b[39mhanoi=2^n-1\u001b[39m\u001b[39m\"\u001b[39m,\u001b[39m\"\u001b[39m\u001b[39mvar_1 = 23 - 13 + hanoi * 2\u001b[39m\u001b[39m\"\u001b[39m,\u001b[39m\"\u001b[39m\u001b[39mh2 = hanoi /2\u001b[39m\u001b[39m\"\u001b[39m,\u001b[39m\"\u001b[39m\u001b[39mn\u001b[39m\u001b[39m\"\u001b[39m]\n\u001b[1;32m----> 3\u001b[0m calculadora(lista)  \n",
      "Cell \u001b[1;32mIn[5], line 47\u001b[0m, in \u001b[0;36mcalculadora\u001b[1;34m(lista_comandos)\u001b[0m\n\u001b[0;32m     45\u001b[0m \u001b[39m# Se procesan todos los comandos de la lista (lista de string)\u001b[39;00m\n\u001b[0;32m     46\u001b[0m \u001b[39mfor\u001b[39;00m i \u001b[39min\u001b[39;00m \u001b[39mrange\u001b[39m(\u001b[39m0\u001b[39m, \u001b[39mlen\u001b[39m(lista_comandos)):\n\u001b[1;32m---> 47\u001b[0m   \u001b[39mvars\u001b[39m \u001b[39m=\u001b[39m procesar_comando(lista_comandos[i], \u001b[39mvars\u001b[39;49m)\n\u001b[0;32m     48\u001b[0m   \u001b[39mprint\u001b[39m(\u001b[39mvars\u001b[39m)\n",
      "Cell \u001b[1;32mIn[5], line 27\u001b[0m, in \u001b[0;36mprocesar_comando\u001b[1;34m(comando, dicc_var)\u001b[0m\n\u001b[0;32m     25\u001b[0m     \u001b[39mreturn\u001b[39;00m dicc_var\n\u001b[0;32m     26\u001b[0m \u001b[39melse\u001b[39;00m:\n\u001b[1;32m---> 27\u001b[0m   dicc_var\u001b[39m=\u001b[39mparser_expr(var, expr, dicc_var)\n\u001b[0;32m     28\u001b[0m   \u001b[39mprint\u001b[39m(dicc_var[var])\n\u001b[0;32m     29\u001b[0m   \u001b[39mreturn\u001b[39;00m dicc_var\n",
      "Cell \u001b[1;32mIn[1], line 132\u001b[0m, in \u001b[0;36mparser_expr\u001b[1;34m(var, expr, dicc_var)\u001b[0m\n\u001b[0;32m    130\u001b[0m     i\u001b[39m+\u001b[39m\u001b[39m=\u001b[39m\u001b[39m1\u001b[39m\n\u001b[0;32m    131\u001b[0m \u001b[39melif\u001b[39;00m operador\u001b[39m==\u001b[39m\u001b[39m\"\u001b[39m\u001b[39m^\u001b[39m\u001b[39m\"\u001b[39m:\n\u001b[1;32m--> 132\u001b[0m     dicc_var[var]\u001b[39m=\u001b[39mpotencia(dicc_var[var],str_auxiliar)\n\u001b[0;32m    133\u001b[0m     str_auxiliar\u001b[39m=\u001b[39m\u001b[39m\"\u001b[39m\u001b[39m\"\u001b[39m\n\u001b[0;32m    134\u001b[0m     i\u001b[39m+\u001b[39m\u001b[39m=\u001b[39m\u001b[39m1\u001b[39m\n",
      "Cell \u001b[1;32mIn[1], line 25\u001b[0m, in \u001b[0;36mpotencia\u001b[1;34m(a, b)\u001b[0m\n\u001b[0;32m     23\u001b[0m \u001b[39mif\u001b[39;00m b\u001b[39m==\u001b[39m\u001b[39m\"\u001b[39m\u001b[39m\"\u001b[39m:\n\u001b[0;32m     24\u001b[0m     \u001b[39mreturn\u001b[39;00m \u001b[39m1\u001b[39m\n\u001b[1;32m---> 25\u001b[0m total \u001b[39m=\u001b[39m \u001b[39mint\u001b[39;49m(a)\u001b[39m*\u001b[39m\u001b[39m*\u001b[39m\u001b[39mint\u001b[39m(b)\n\u001b[0;32m     26\u001b[0m \u001b[39mreturn\u001b[39;00m total\n",
      "\u001b[1;31mValueError\u001b[0m: invalid literal for int() with base 10: ''"
     ]
    }
   ],
   "source": [
    "# EJEMPLO 1:\n",
    "lista = [\"n=5\",\"hanoi=2^n-1\",\"var_1 = 23 - 13 + hanoi * 2\",\"h2 = hanoi /2\",\"\",\"n\"]\n",
    "calculadora(lista)  "
   ]
  },
  {
   "attachments": {},
   "cell_type": "markdown",
   "metadata": {},
   "source": [
    "El resultado del ejemplo anterior debería imprimir en pantalla\n",
    "\n",
    "   5\n",
    "\n",
    "   31\n",
    "\n",
    "   82\n",
    "\n",
    "   15\n",
    "\n",
    "   5"
   ]
  },
  {
   "attachments": {},
   "cell_type": "markdown",
   "metadata": {},
   "source": [
    "## Ejemplo 2"
   ]
  },
  {
   "cell_type": "code",
   "execution_count": 2,
   "metadata": {},
   "outputs": [
    {
     "ename": "NameError",
     "evalue": "name 'calculadora' is not defined",
     "output_type": "error",
     "traceback": [
      "\u001b[1;31m---------------------------------------------------------------------------\u001b[0m",
      "\u001b[1;31mNameError\u001b[0m                                 Traceback (most recent call last)",
      "Cell \u001b[1;32mIn[2], line 3\u001b[0m\n\u001b[0;32m      1\u001b[0m \u001b[39m# EJEMPLO 1:\u001b[39;00m\n\u001b[0;32m      2\u001b[0m lista \u001b[39m=\u001b[39m [\u001b[39m\"\u001b[39m\u001b[39mn=5\u001b[39m\u001b[39m\"\u001b[39m,\u001b[39m\"\u001b[39m\u001b[39mhanoi=2^n-1\u001b[39m\u001b[39m\"\u001b[39m,\u001b[39m\"\u001b[39m\u001b[39mvar_1 = 23 - 13 + hanoi2 * 2\u001b[39m\u001b[39m\"\u001b[39m,\u001b[39m\"\u001b[39m\u001b[39mh2 = hanoi /2\u001b[39m\u001b[39m\"\u001b[39m,\u001b[39m\"\u001b[39m\u001b[39m\"\u001b[39m,\u001b[39m\"\u001b[39m\u001b[39mn\u001b[39m\u001b[39m\"\u001b[39m]\n\u001b[1;32m----> 3\u001b[0m calculadora(lista)\n",
      "\u001b[1;31mNameError\u001b[0m: name 'calculadora' is not defined"
     ]
    }
   ],
   "source": [
    "# EJEMPLO 1:\n",
    "lista = [\"n=5\",\"hanoi=2^n-1\",\"var_1 = 23 - 13 + hanoi2 * 2\",\"h2 = hanoi /2\",\"\",\"n\"]\n",
    "calculadora(lista)"
   ]
  },
  {
   "attachments": {},
   "cell_type": "markdown",
   "metadata": {},
   "source": [
    "El resultado del ejemplo anterior debería imprimir en pantalla\n",
    "\n",
    "5\n",
    "\n",
    "31\n",
    "\n",
    "ERROR: variable indefinida \"hanoi2\"\n",
    "\n",
    "15\n",
    "\n",
    "5"
   ]
  },
  {
   "attachments": {},
   "cell_type": "markdown",
   "metadata": {},
   "source": [
    "## ¿Qué hay que entregar?\n",
    "\n",
    "Usted debe crear una copia de este documento (del menú seleccionar \"Archivo\" o \"File\" y de ahi la opción \"guardar copia en Drive\" o \"save a copy in Drive\"). Este nuevo documento (notebook de Colab) es el que debe modificar para luego compartirlo con la opción \"Cualquier usuario de internet con este enlace puede ver esto\" (o “Anyone on the internet with this link can view”). Esta opción se encuentra disponible en la parte superior derecha de su notebook, en el botón \"Compartir\" (o \"Share\"). Una vez que tenga disponible el enlace, colocarlo en la descripción de la entrega de su tarea. No olvide colocar su nombre dentro del notebook."
   ]
  }
 ],
 "metadata": {
  "kernelspec": {
   "display_name": "Python 3",
   "language": "python",
   "name": "python3"
  },
  "language_info": {
   "codemirror_mode": {
    "name": "ipython",
    "version": 3
   },
   "file_extension": ".py",
   "mimetype": "text/x-python",
   "name": "python",
   "nbconvert_exporter": "python",
   "pygments_lexer": "ipython3",
   "version": "3.11.1"
  },
  "orig_nbformat": 4
 },
 "nbformat": 4,
 "nbformat_minor": 2
}
